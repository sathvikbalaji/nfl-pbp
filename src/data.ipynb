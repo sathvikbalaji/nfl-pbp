{
 "cells": [
  {
   "cell_type": "code",
   "execution_count": 1,
   "metadata": {},
   "outputs": [
    {
     "name": "stderr",
     "output_type": "stream",
     "text": [
      "/Users/sathvik/nfl-pbp/lib/python3.9/site-packages/pandas/compat/__init__.py:97: UserWarning: Could not import the lzma module. Your installed Python is incomplete. Attempting to use lzma compression will result in a RuntimeError.\n",
      "  warnings.warn(msg)\n"
     ]
    }
   ],
   "source": [
    "import pandas as pd\n",
    "pd.set_option('max_colwidth', 800)\n",
    "pd.set_option('display.max_rows', 500)"
   ]
  },
  {
   "cell_type": "code",
   "execution_count": 2,
   "metadata": {},
   "outputs": [],
   "source": [
    "data = pd.DataFrame()\n",
    "i_data = pd.read_csv('./play_by_play_2020.csv.gz', compression='gzip', low_memory=False)\n",
    "data = data.append(i_data, sort=True)\n",
    "data.reset_index(drop=True, inplace=True)\n"
   ]
  },
  {
   "cell_type": "code",
   "execution_count": 3,
   "metadata": {},
   "outputs": [],
   "source": [
    "import numpy as np\n",
    "from sklearn.linear_model import LinearRegression\n"
   ]
  },
  {
   "cell_type": "code",
   "execution_count": 4,
   "metadata": {},
   "outputs": [],
   "source": [
    "data['down'] = np.nan_to_num(data['down'])\n",
    "#data['yards_gained'] = np.nan_to_num(data['yards_gained'])\n",
    "# data['rusher'] = data['rusher'].fillna('')\n",
    "#data['incomplete_pass'] = np.nan_to_num(data['incomplete_pass'], nan=-1)\n",
    "#data['punter_player_name'] = data['punter_player_name'].fillna('')\n",
    "#data['kick_distance'] = np.nan_to_num(data['kick_distance'])\n",
    "# data['ydstogo'] = np.nan_to_num(data['ydstogo'])\n",
    "\n"
   ]
  },
  {
   "cell_type": "code",
   "execution_count": 5,
   "metadata": {},
   "outputs": [],
   "source": [
    "# from https://stackoverflow.com/a/62085741\n",
    "def undummify(df, prefix_sep=\"_\"):\n",
    "    cols2collapse = {\n",
    "        item.split(prefix_sep)[0]: (prefix_sep in item) for item in df.columns\n",
    "    }\n",
    "    series_list = []\n",
    "    for col, needs_to_collapse in cols2collapse.items():\n",
    "        if needs_to_collapse:\n",
    "            undummified = (\n",
    "                df.filter(like=col)\n",
    "                .idxmax(axis=1)\n",
    "                .apply(lambda x: x.split(prefix_sep, maxsplit=1)[1])\n",
    "                .rename(col)\n",
    "            )\n",
    "            series_list.append(undummified)\n",
    "        else:\n",
    "            series_list.append(df[col])\n",
    "    undummified_df = pd.concat(series_list, axis=1)\n",
    "    return undummified_df"
   ]
  },
  {
   "cell_type": "code",
   "execution_count": 6,
   "metadata": {},
   "outputs": [
    {
     "name": "stdout",
     "output_type": "stream",
     "text": [
      "Index(['down', 'posteam_ARI', 'posteam_ATL', 'posteam_BAL', 'posteam_BUF',\n",
      "       'posteam_CAR', 'posteam_CHI', 'posteam_CIN', 'posteam_CLE',\n",
      "       'posteam_DAL', 'posteam_DEN', 'posteam_DET', 'posteam_GB',\n",
      "       'posteam_HOU', 'posteam_IND', 'posteam_JAX', 'posteam_KC', 'posteam_LA',\n",
      "       'posteam_LAC', 'posteam_LV', 'posteam_MIA', 'posteam_MIN', 'posteam_NE',\n",
      "       'posteam_NO', 'posteam_NYG', 'posteam_NYJ', 'posteam_PHI',\n",
      "       'posteam_PIT', 'posteam_SEA', 'posteam_SF', 'posteam_TB', 'posteam_TEN',\n",
      "       'posteam_WAS'],\n",
      "      dtype='object')\n"
     ]
    }
   ],
   "source": [
    "featured_cols_play = ['posteam', 'down']\n",
    "x_play = pd.get_dummies(data.loc[:, featured_cols_play])\n",
    "x_play.shape\n",
    "print(x_play.columns)"
   ]
  },
  {
   "cell_type": "code",
   "execution_count": 7,
   "metadata": {},
   "outputs": [
    {
     "data": {
      "text/plain": [
       "(43176, 1071)"
      ]
     },
     "execution_count": 7,
     "metadata": {},
     "output_type": "execute_result"
    }
   ],
   "source": [
    "output_cols_play = ['play_type', 'passer', 'rusher', 'receiver', 'kicker_player_name', 'punter_player_name']\n",
    "y_play = pd.get_dummies(data.loc[:, output_cols_play])\n",
    "y_play.shape"
   ]
  },
  {
   "cell_type": "code",
   "execution_count": 8,
   "metadata": {},
   "outputs": [
    {
     "data": {
      "text/plain": [
       "LinearRegression()"
      ]
     },
     "execution_count": 8,
     "metadata": {},
     "output_type": "execute_result"
    }
   ],
   "source": [
    "model_play = LinearRegression()\n",
    "model_play.fit(x_play,y_play)"
   ]
  },
  {
   "cell_type": "code",
   "execution_count": 9,
   "metadata": {},
   "outputs": [
    {
     "data": {
      "text/html": [
       "<div>\n",
       "<style scoped>\n",
       "    .dataframe tbody tr th:only-of-type {\n",
       "        vertical-align: middle;\n",
       "    }\n",
       "\n",
       "    .dataframe tbody tr th {\n",
       "        vertical-align: top;\n",
       "    }\n",
       "\n",
       "    .dataframe thead th {\n",
       "        text-align: right;\n",
       "    }\n",
       "</style>\n",
       "<table border=\"1\" class=\"dataframe\">\n",
       "  <thead>\n",
       "    <tr style=\"text-align: right;\">\n",
       "      <th></th>\n",
       "      <th>play</th>\n",
       "      <th>passer</th>\n",
       "      <th>rusher</th>\n",
       "      <th>receiver</th>\n",
       "      <th>kicker</th>\n",
       "      <th>punter</th>\n",
       "    </tr>\n",
       "  </thead>\n",
       "  <tbody>\n",
       "    <tr>\n",
       "      <th>0</th>\n",
       "      <td>type_run</td>\n",
       "      <td>L.Jackson</td>\n",
       "      <td>G.Edwards</td>\n",
       "      <td>M.Brown</td>\n",
       "      <td>player_name_J.Tucker</td>\n",
       "      <td>player_name_S.Koch</td>\n",
       "    </tr>\n",
       "  </tbody>\n",
       "</table>\n",
       "</div>"
      ],
      "text/plain": [
       "       play     passer     rusher receiver                kicker  \\\n",
       "0  type_run  L.Jackson  G.Edwards  M.Brown  player_name_J.Tucker   \n",
       "\n",
       "               punter  \n",
       "0  player_name_S.Koch  "
      ]
     },
     "execution_count": 9,
     "metadata": {},
     "output_type": "execute_result"
    }
   ],
   "source": [
    "row = [1, 0, 0, 1, 0,\n",
    "       0, 0, 0, 0,\n",
    "       0, 0, 0, 0,\n",
    "       0, 0, 0, 0, 0,\n",
    "       0, 0, 0, 0, 0,\n",
    "       0, 0, 0, 0,\n",
    "       0, 0, 0, 0, 0,\n",
    "       0]\n",
    "result = model_play.predict([row])\n",
    "df = pd.DataFrame(result, columns=pd.Series(list(y_play.columns)))\n",
    "undummify(df)"
   ]
  },
  {
   "cell_type": "code",
   "execution_count": 10,
   "metadata": {},
   "outputs": [
    {
     "data": {
      "text/plain": [
       "LinearRegression()"
      ]
     },
     "execution_count": 10,
     "metadata": {},
     "output_type": "execute_result"
    }
   ],
   "source": [
    "featured_cols_play_alt = ['posteam', 'down', 'ydstogo']\n",
    "x_play_alt = pd.get_dummies(data.loc[:, featured_cols_play_alt])\n",
    "output_cols_play_alt = ['play_type', 'passer', 'rusher', 'receiver', 'kicker_player_name', 'punter_player_name']\n",
    "y_play_alt = pd.get_dummies(data.loc[:, output_cols_play_alt])\n",
    "model_play_alt = LinearRegression()\n",
    "model_play_alt.fit(x_play_alt,y_play_alt)"
   ]
  },
  {
   "cell_type": "code",
   "execution_count": 11,
   "metadata": {},
   "outputs": [
    {
     "data": {
      "text/html": [
       "<div>\n",
       "<style scoped>\n",
       "    .dataframe tbody tr th:only-of-type {\n",
       "        vertical-align: middle;\n",
       "    }\n",
       "\n",
       "    .dataframe tbody tr th {\n",
       "        vertical-align: top;\n",
       "    }\n",
       "\n",
       "    .dataframe thead th {\n",
       "        text-align: right;\n",
       "    }\n",
       "</style>\n",
       "<table border=\"1\" class=\"dataframe\">\n",
       "  <thead>\n",
       "    <tr style=\"text-align: right;\">\n",
       "      <th></th>\n",
       "      <th>play</th>\n",
       "      <th>passer</th>\n",
       "      <th>rusher</th>\n",
       "      <th>receiver</th>\n",
       "      <th>kicker</th>\n",
       "      <th>punter</th>\n",
       "    </tr>\n",
       "  </thead>\n",
       "  <tbody>\n",
       "    <tr>\n",
       "      <th>0</th>\n",
       "      <td>type_pass</td>\n",
       "      <td>N.Mullens</td>\n",
       "      <td>R.Mostert</td>\n",
       "      <td>B.Aiyuk</td>\n",
       "      <td>player_name_R.Gould</td>\n",
       "      <td>player_name_M.Wishnowsky</td>\n",
       "    </tr>\n",
       "  </tbody>\n",
       "</table>\n",
       "</div>"
      ],
      "text/plain": [
       "        play     passer     rusher receiver               kicker  \\\n",
       "0  type_pass  N.Mullens  R.Mostert  B.Aiyuk  player_name_R.Gould   \n",
       "\n",
       "                     punter  \n",
       "0  player_name_M.Wishnowsky  "
      ]
     },
     "execution_count": 11,
     "metadata": {},
     "output_type": "execute_result"
    }
   ],
   "source": [
    "row_alt = [3, 4, 0, 0, 0, 0,\n",
    "       0, 0, 0, 0,\n",
    "       0, 0, 0, 0,\n",
    "       0, 0, 0, 0, 0,\n",
    "       0, 0, 0, 0, 0,\n",
    "       0, 0, 0, 0,\n",
    "       0, 0, 1, 0, 0,\n",
    "       0]\n",
    "result_alt = model_play_alt.predict([row_alt])\n",
    "df_alt = pd.DataFrame(result_alt, columns=pd.Series(list(y_play_alt.columns)))\n",
    "undummify(df_alt)"
   ]
  },
  {
   "cell_type": "code",
   "execution_count": 12,
   "metadata": {},
   "outputs": [
    {
     "name": "stdout",
     "output_type": "stream",
     "text": [
      "1071\n"
     ]
    }
   ],
   "source": [
    "print(result.size)"
   ]
  },
  {
   "cell_type": "code",
   "execution_count": 13,
   "metadata": {},
   "outputs": [
    {
     "data": {
      "text/html": [
       "<div>\n",
       "<style scoped>\n",
       "    .dataframe tbody tr th:only-of-type {\n",
       "        vertical-align: middle;\n",
       "    }\n",
       "\n",
       "    .dataframe tbody tr th {\n",
       "        vertical-align: top;\n",
       "    }\n",
       "\n",
       "    .dataframe thead th {\n",
       "        text-align: right;\n",
       "    }\n",
       "</style>\n",
       "<table border=\"1\" class=\"dataframe\">\n",
       "  <thead>\n",
       "    <tr style=\"text-align: right;\">\n",
       "      <th></th>\n",
       "      <th>play</th>\n",
       "      <th>passer</th>\n",
       "      <th>rusher</th>\n",
       "      <th>receiver</th>\n",
       "      <th>kicker</th>\n",
       "      <th>punter</th>\n",
       "    </tr>\n",
       "  </thead>\n",
       "  <tbody>\n",
       "    <tr>\n",
       "      <th>0</th>\n",
       "      <td>type_run</td>\n",
       "      <td>L.Jackson</td>\n",
       "      <td>G.Edwards</td>\n",
       "      <td>M.Brown</td>\n",
       "      <td>player_name_J.Tucker</td>\n",
       "      <td>player_name_S.Koch</td>\n",
       "    </tr>\n",
       "  </tbody>\n",
       "</table>\n",
       "</div>"
      ],
      "text/plain": [
       "       play     passer     rusher receiver                kicker  \\\n",
       "0  type_run  L.Jackson  G.Edwards  M.Brown  player_name_J.Tucker   \n",
       "\n",
       "               punter  \n",
       "0  player_name_S.Koch  "
      ]
     },
     "execution_count": 13,
     "metadata": {},
     "output_type": "execute_result"
    }
   ],
   "source": [
    "# df = pd.DataFrame({ x: pd.Series(result[0]), y: pd.Series(list(y.columns)) })\n",
    "df = pd.DataFrame(result, columns=pd.Series(list(y_play.columns)))\n",
    "undummify(df)"
   ]
  },
  {
   "cell_type": "code",
   "execution_count": 14,
   "metadata": {},
   "outputs": [],
   "source": [
    "data['rusher'] = data['rusher'].fillna('')\n",
    "data['yards_gained'] = np.nan_to_num(data['yards_gained'])"
   ]
  },
  {
   "cell_type": "code",
   "execution_count": 15,
   "metadata": {},
   "outputs": [
    {
     "data": {
      "text/plain": [
       "(43176, 345)"
      ]
     },
     "execution_count": 15,
     "metadata": {},
     "output_type": "execute_result"
    }
   ],
   "source": [
    "featured_cols_rush = ['rusher', 'down']\n",
    "x_rush = pd.get_dummies(data.loc[:, featured_cols_rush])\n",
    "x_rush.shape\n"
   ]
  },
  {
   "cell_type": "code",
   "execution_count": 16,
   "metadata": {},
   "outputs": [],
   "source": [
    "output_cols_rush = ['yards_gained']\n",
    "y_rush = pd.get_dummies(data.loc[:, output_cols_rush])\n"
   ]
  },
  {
   "cell_type": "code",
   "execution_count": 17,
   "metadata": {},
   "outputs": [
    {
     "data": {
      "text/plain": [
       "LinearRegression()"
      ]
     },
     "execution_count": 17,
     "metadata": {},
     "output_type": "execute_result"
    }
   ],
   "source": [
    "model_rush = LinearRegression()\n",
    "model_rush.fit(x_rush, y_rush)"
   ]
  },
  {
   "cell_type": "code",
   "execution_count": 18,
   "metadata": {},
   "outputs": [
    {
     "name": "stdout",
     "output_type": "stream",
     "text": [
      "Index(['down', 'rusher_', 'rusher_A.Abdullah', 'rusher_A.Armah',\n",
      "       'rusher_A.Brown', 'rusher_A.Cole', 'rusher_A.Collins',\n",
      "       'rusher_A.Cooper', 'rusher_A.Dalton', 'rusher_A.Dillon',\n",
      "       ...\n",
      "       'rusher_T.Tagovailoa', 'rusher_T.Taylor', 'rusher_T.Wesco',\n",
      "       'rusher_T.Williams', 'rusher_T.Yeldon', 'rusher_V.Jefferson',\n",
      "       'rusher_W.Fuller', 'rusher_W.Gallman', 'rusher_Z.Ertz',\n",
      "       'rusher_Z.Moss'],\n",
      "      dtype='object', length=345)\n"
     ]
    }
   ],
   "source": [
    "print(x_rush.columns)"
   ]
  },
  {
   "cell_type": "code",
   "execution_count": 19,
   "metadata": {},
   "outputs": [
    {
     "data": {
      "text/plain": [
       "array([[5.23262787]])"
      ]
     },
     "execution_count": 19,
     "metadata": {},
     "output_type": "execute_result"
    }
   ],
   "source": [
    "row_rusher = [1]\n",
    "for col in list(x_rush.columns)[1:]:\n",
    "    if col == 'rusher_A.Jones':\n",
    "        row_rusher.append(1)\n",
    "    else:\n",
    "        row_rusher.append(0)\n",
    "\n",
    "model_rush.predict([row_rusher])"
   ]
  },
  {
   "cell_type": "code",
   "execution_count": 20,
   "metadata": {},
   "outputs": [],
   "source": [
    "data['incomplete_pass'] = np.nan_to_num(data['incomplete_pass'], nan=-1)"
   ]
  },
  {
   "cell_type": "code",
   "execution_count": 21,
   "metadata": {},
   "outputs": [
    {
     "data": {
      "text/plain": [
       "(43176, 611)"
      ]
     },
     "execution_count": 21,
     "metadata": {},
     "output_type": "execute_result"
    }
   ],
   "source": [
    "featured_cols_pass = ['down','passer', 'receiver',]\n",
    "x_pass = pd.get_dummies(data.loc[:, featured_cols_pass])\n",
    "x_pass.shape"
   ]
  },
  {
   "cell_type": "code",
   "execution_count": 22,
   "metadata": {},
   "outputs": [],
   "source": [
    "output_cols_pass = ['yards_gained', 'incomplete_pass']\n",
    "y_pass = pd.get_dummies(data.loc[:, output_cols_pass])"
   ]
  },
  {
   "cell_type": "code",
   "execution_count": 23,
   "metadata": {},
   "outputs": [
    {
     "data": {
      "text/plain": [
       "LinearRegression()"
      ]
     },
     "execution_count": 23,
     "metadata": {},
     "output_type": "execute_result"
    }
   ],
   "source": [
    "model_pass = LinearRegression()\n",
    "model_pass.fit(x_pass, y_pass)"
   ]
  },
  {
   "cell_type": "code",
   "execution_count": 24,
   "metadata": {},
   "outputs": [
    {
     "name": "stdout",
     "output_type": "stream",
     "text": [
      "Index(['down', 'passer_A.Dalton', 'passer_A.Erickson', 'passer_A.Humphries',\n",
      "       'passer_A.Lee', 'passer_A.McCarron', 'passer_A.Rodgers',\n",
      "       'passer_A.Smith', 'passer_B.Allen', 'passer_B.Colquitt',\n",
      "       ...\n",
      "       'receiver_V.McDonald', 'receiver_V.Smith', 'receiver_W.Dissly',\n",
      "       'receiver_W.Fuller', 'receiver_W.Gallman', 'receiver_W.Snead',\n",
      "       'receiver_Z.Ertz', 'receiver_Z.Jones', 'receiver_Z.Moss',\n",
      "       'receiver_Z.Pascal'],\n",
      "      dtype='object', length=611)\n"
     ]
    }
   ],
   "source": [
    "print(x_pass.columns)"
   ]
  },
  {
   "cell_type": "code",
   "execution_count": 25,
   "metadata": {},
   "outputs": [
    {
     "data": {
      "text/plain": [
       "array([[9.24747843, 0.19847472]])"
      ]
     },
     "execution_count": 25,
     "metadata": {},
     "output_type": "execute_result"
    }
   ],
   "source": [
    "row_pass = [1]\n",
    "for col in list(x_pass.columns)[1:]:\n",
    "    if col == 'passer_P.Mahomes':\n",
    "        row_pass.append(1)\n",
    "    elif col == 'receiver_T.Kelce':\n",
    "        row_pass.append(1)\n",
    "    else:\n",
    "        row_pass.append(0)\n",
    "\n",
    "model_pass.predict([row_pass])"
   ]
  },
  {
   "cell_type": "code",
   "execution_count": 26,
   "metadata": {},
   "outputs": [],
   "source": [
    "data['punter_player_name'] = data['punter_player_name'].fillna('')\n",
    "data['kick_distance'] = np.nan_to_num(data['kick_distance'])"
   ]
  },
  {
   "cell_type": "code",
   "execution_count": 27,
   "metadata": {},
   "outputs": [
    {
     "data": {
      "text/plain": [
       "(43176, 40)"
      ]
     },
     "execution_count": 27,
     "metadata": {},
     "output_type": "execute_result"
    }
   ],
   "source": [
    "featured_cols_punt = ['punter_player_name',]\n",
    "x_punt = pd.get_dummies(data.loc[:, featured_cols_punt])\n",
    "x_punt.shape"
   ]
  },
  {
   "cell_type": "code",
   "execution_count": 28,
   "metadata": {},
   "outputs": [],
   "source": [
    "output_cols_punt = ['kick_distance']\n",
    "y_punt = pd.get_dummies(data.loc[:, output_cols_punt])"
   ]
  },
  {
   "cell_type": "code",
   "execution_count": 29,
   "metadata": {},
   "outputs": [
    {
     "data": {
      "text/plain": [
       "LinearRegression()"
      ]
     },
     "execution_count": 29,
     "metadata": {},
     "output_type": "execute_result"
    }
   ],
   "source": [
    "model_punt = LinearRegression()\n",
    "model_punt.fit(x_punt, y_punt)"
   ]
  },
  {
   "cell_type": "code",
   "execution_count": 30,
   "metadata": {},
   "outputs": [
    {
     "name": "stdout",
     "output_type": "stream",
     "text": [
      "Index(['punter_player_name_', 'punter_player_name_A.Cole',\n",
      "       'punter_player_name_A.Lee', 'punter_player_name_A.Rosas',\n",
      "       'punter_player_name_B.Anger', 'punter_player_name_B.Colquitt',\n",
      "       'punter_player_name_B.Kern', 'punter_player_name_B.Mann',\n",
      "       'punter_player_name_B.Pinion', 'punter_player_name_C.Bojorquez',\n",
      "       'punter_player_name_C.Johnston', 'punter_player_name_C.Jones',\n",
      "       'punter_player_name_D.Colquitt', 'punter_player_name_H.Niswander',\n",
      "       'punter_player_name_J.Bailey', 'punter_player_name_J.Berry',\n",
      "       'punter_player_name_J.Charlton', 'punter_player_name_J.Elliott',\n",
      "       'punter_player_name_J.Fox', 'punter_player_name_J.Gillan',\n",
      "       'punter_player_name_J.Hekker', 'punter_player_name_J.Scott',\n",
      "       'punter_player_name_K.Fairbairn', 'punter_player_name_K.Huber',\n",
      "       'punter_player_name_L.Cooke', 'punter_player_name_M.Dickson',\n",
      "       'punter_player_name_M.Haack', 'punter_player_name_M.Wishnowsky',\n",
      "       'punter_player_name_P.O'Donnell', 'punter_player_name_R.Allen',\n",
      "       'punter_player_name_R.Dixon', 'punter_player_name_R.Sanchez',\n",
      "       'punter_player_name_S.Hofrichter', 'punter_player_name_S.Koch',\n",
      "       'punter_player_name_S.Martin', 'punter_player_name_T.Daniel',\n",
      "       'punter_player_name_T.Long', 'punter_player_name_T.Morstead',\n",
      "       'punter_player_name_T.Townsend', 'punter_player_name_T.Way'],\n",
      "      dtype='object')\n"
     ]
    }
   ],
   "source": [
    "print(x_punt.columns)"
   ]
  },
  {
   "cell_type": "code",
   "execution_count": 31,
   "metadata": {},
   "outputs": [
    {
     "data": {
      "text/plain": [
       "array([[45.60546875]])"
      ]
     },
     "execution_count": 31,
     "metadata": {},
     "output_type": "execute_result"
    }
   ],
   "source": [
    "row_punt = []\n",
    "for col in list(x_punt.columns):\n",
    "    if col == 'punter_player_name_T.Way':\n",
    "        row_punt.append(1)\n",
    "    else:\n",
    "        row_punt.append(0)\n",
    "\n",
    "model_punt.predict([row_punt])"
   ]
  },
  {
   "cell_type": "code",
   "execution_count": 32,
   "metadata": {},
   "outputs": [
    {
     "data": {
      "text/plain": [
       "(43176, 71)"
      ]
     },
     "execution_count": 32,
     "metadata": {},
     "output_type": "execute_result"
    }
   ],
   "source": [
    "featured_cols_kick = ['kicker_player_name', 'kick_distance']\n",
    "x_kick = pd.get_dummies(data.loc[:, featured_cols_kick])\n",
    "x_kick.shape"
   ]
  },
  {
   "cell_type": "code",
   "execution_count": 33,
   "metadata": {},
   "outputs": [],
   "source": [
    "output_cols_kick = ['extra_point_result', 'field_goal_result']\n",
    "y_kick = pd.get_dummies(data.loc[:, output_cols_kick])"
   ]
  },
  {
   "cell_type": "code",
   "execution_count": 34,
   "metadata": {},
   "outputs": [
    {
     "data": {
      "text/plain": [
       "LinearRegression()"
      ]
     },
     "execution_count": 34,
     "metadata": {},
     "output_type": "execute_result"
    }
   ],
   "source": [
    "model_kick = LinearRegression()\n",
    "model_kick.fit(x_kick, y_kick)"
   ]
  },
  {
   "cell_type": "code",
   "execution_count": 35,
   "metadata": {},
   "outputs": [
    {
     "name": "stdout",
     "output_type": "stream",
     "text": [
      "Index(['kick_distance', 'kicker_player_name_A.Brewer',\n",
      "       'kicker_player_name_A.Lee', 'kicker_player_name_A.Rosas',\n",
      "       'kicker_player_name_A.Seibert', 'kicker_player_name_B.Anger',\n",
      "       'kicker_player_name_B.Colquitt', 'kicker_player_name_B.Kern',\n",
      "       'kicker_player_name_B.Mann', 'kicker_player_name_B.McManus',\n",
      "       'kicker_player_name_B.Pinion', 'kicker_player_name_B.Wright',\n",
      "       'kicker_player_name_C.Boswell', 'kicker_player_name_C.Johnston',\n",
      "       'kicker_player_name_C.Jones', 'kicker_player_name_C.McLaughlin',\n",
      "       'kicker_player_name_C.Parkey', 'kicker_player_name_C.Santos',\n",
      "       'kicker_player_name_D.Bailey', 'kicker_player_name_D.Carlson',\n",
      "       'kicker_player_name_D.Hopkins', 'kicker_player_name_E.Fry',\n",
      "       'kicker_player_name_G.Gano', 'kicker_player_name_G.Zuerlein',\n",
      "       'kicker_player_name_H.Butker', 'kicker_player_name_J.Bailey',\n",
      "       'kicker_player_name_J.Brown', 'kicker_player_name_J.Elliott',\n",
      "       'kicker_player_name_J.Fox', 'kicker_player_name_J.Gillan',\n",
      "       'kicker_player_name_J.Lambo', 'kicker_player_name_J.Myers',\n",
      "       'kicker_player_name_J.Sanders', 'kicker_player_name_J.Scott',\n",
      "       'kicker_player_name_J.Slye', 'kicker_player_name_J.Tucker',\n",
      "       'kicker_player_name_K.Cole Sr.', 'kicker_player_name_K.Fairbairn',\n",
      "       'kicker_player_name_K.Forbath', 'kicker_player_name_L.Cooke',\n",
      "       'kicker_player_name_M.Badgley', 'kicker_player_name_M.Crosby',\n",
      "       'kicker_player_name_M.Dickson', 'kicker_player_name_M.Gay',\n",
      "       'kicker_player_name_M.Haack', 'kicker_player_name_M.Nugent',\n",
      "       'kicker_player_name_M.Prater', 'kicker_player_name_M.Wishnowsky',\n",
      "       'kicker_player_name_M.Wright', 'kicker_player_name_N.Folk',\n",
      "       'kicker_player_name_R.Blankenship', 'kicker_player_name_R.Bullock',\n",
      "       'kicker_player_name_R.Dixon', 'kicker_player_name_R.Gould',\n",
      "       'kicker_player_name_R.Sanchez', 'kicker_player_name_R.Succop',\n",
      "       'kicker_player_name_S.Castillo', 'kicker_player_name_S.Ficken',\n",
      "       'kicker_player_name_S.Gostkowski', 'kicker_player_name_S.Hauschka',\n",
      "       'kicker_player_name_S.Hofrichter', 'kicker_player_name_S.Martin',\n",
      "       'kicker_player_name_S.Sloman', 'kicker_player_name_T.Bass',\n",
      "       'kicker_player_name_T.Long', 'kicker_player_name_T.Morstead',\n",
      "       'kicker_player_name_T.Russolino', 'kicker_player_name_T.Townsend',\n",
      "       'kicker_player_name_W.Lutz', 'kicker_player_name_Y.Koo',\n",
      "       'kicker_player_name_Z.Gonzalez'],\n",
      "      dtype='object')\n"
     ]
    }
   ],
   "source": [
    "print(x_kick.columns)"
   ]
  },
  {
   "cell_type": "code",
   "execution_count": 36,
   "metadata": {},
   "outputs": [
    {
     "name": "stdout",
     "output_type": "stream",
     "text": [
      "extra_point_result_blocked 6.349090131926459e-05\n",
      "extra_point_result_failed 0.02158988628767188\n",
      "extra_point_result_good 0.4412548698220293\n",
      "field_goal_result_blocked 0.00010100413671603473\n",
      "field_goal_result_made 0.3243749456229952\n",
      "field_goal_result_missed 0.033451578344567336\n"
     ]
    }
   ],
   "source": [
    "row_kick = [33]\n",
    "for col in list(x_kick.columns)[1:]:\n",
    "    if col == 'kicker_player_name_R.Blankenship':\n",
    "        row_kick.append(1)\n",
    "    else:\n",
    "        row_kick.append(0)\n",
    "\n",
    "prediction = list(model_kick.predict([row_kick]))\n",
    "\n",
    "for i in range(len(list(y_kick.columns))):\n",
    "    print(list(y_kick.columns)[i], prediction[0][i])"
   ]
  },
  {
   "cell_type": "code",
   "execution_count": 37,
   "metadata": {},
   "outputs": [
    {
     "name": "stdout",
     "output_type": "stream",
     "text": [
      "Index(['extra_point_result_blocked', 'extra_point_result_failed',\n",
      "       'extra_point_result_good', 'field_goal_result_blocked',\n",
      "       'field_goal_result_made', 'field_goal_result_missed'],\n",
      "      dtype='object')\n"
     ]
    }
   ],
   "source": [
    "print(y_kick.columns)"
   ]
  },
  {
   "cell_type": "code",
   "execution_count": 38,
   "metadata": {},
   "outputs": [
    {
     "data": {
      "text/plain": [
       "7    52.0\n",
       "Name: kick_distance, dtype: float64"
      ]
     },
     "execution_count": 38,
     "metadata": {},
     "output_type": "execute_result"
    }
   ],
   "source": [
    "data[data['field_goal_result'] == 'made'].head(1)['kick_distance']"
   ]
  },
  {
   "cell_type": "code",
   "execution_count": 39,
   "metadata": {},
   "outputs": [
    {
     "data": {
      "text/plain": [
       "[1,\n",
       " 10,\n",
       " 1,\n",
       " 0,\n",
       " 0,\n",
       " 0,\n",
       " 0,\n",
       " 0,\n",
       " 0,\n",
       " 0,\n",
       " 0,\n",
       " 0,\n",
       " 0,\n",
       " 0,\n",
       " 0,\n",
       " 0,\n",
       " 0,\n",
       " 0,\n",
       " 0,\n",
       " 0,\n",
       " 0,\n",
       " 0,\n",
       " 0,\n",
       " 0,\n",
       " 0,\n",
       " 0,\n",
       " 0,\n",
       " 0,\n",
       " 0,\n",
       " 0,\n",
       " 0,\n",
       " 0,\n",
       " 0,\n",
       " 0]"
      ]
     },
     "execution_count": 39,
     "metadata": {},
     "output_type": "execute_result"
    }
   ],
   "source": [
    "def input_row_for_play_type_model(down, ydstogo, team_name):\n",
    "    team_keys = ['posteam_ARI', 'posteam_ATL', 'posteam_BAL', 'posteam_BUF',\n",
    "       'posteam_CAR', 'posteam_CHI', 'posteam_CIN', 'posteam_CLE',\n",
    "       'posteam_DAL', 'posteam_DEN', 'posteam_DET', 'posteam_GB',\n",
    "       'posteam_HOU', 'posteam_IND', 'posteam_JAX', 'posteam_KC', 'posteam_LA',\n",
    "       'posteam_LAC', 'posteam_LV', 'posteam_MIA', 'posteam_MIN', 'posteam_NE',\n",
    "       'posteam_NO', 'posteam_NYG', 'posteam_NYJ', 'posteam_PHI',\n",
    "       'posteam_PIT', 'posteam_SEA', 'posteam_SF', 'posteam_TB', 'posteam_TEN',\n",
    "       'posteam_WAS']\n",
    "    output_row = [down, ydstogo]\n",
    "    output_row.extend([1 if item.endswith(team_name) else 0 for item in team_keys])\n",
    "    return output_row\n",
    "input_row_for_play_type_model(1, 10, 'ARI')"
   ]
  },
  {
   "cell_type": "code",
   "execution_count": 40,
   "metadata": {},
   "outputs": [
    {
     "name": "stdout",
     "output_type": "stream",
     "text": [
      "type_pass K.Murray D.Hopkins K.Drake\n",
      "type_run K.Murray C.Kirk K.Drake\n"
     ]
    },
    {
     "data": {
      "text/plain": [
       "{'series_end_line': 41,\n",
       " 'series_result': 'first_down',\n",
       " 'series_time_taken_sec': 87}"
      ]
     },
     "execution_count": 40,
     "metadata": {},
     "output_type": "execute_result"
    }
   ],
   "source": [
    "import random\n",
    "\n",
    "def series_sim(team_name, starting_pos):\n",
    "    series_yard_line = starting_pos\n",
    "    series_time_taken = 0\n",
    "    series_ydstogo = 10\n",
    "    for down in range(1,5):\n",
    "        play_model_input = input_row_for_play_type_model(down, series_ydstogo, team_name)\n",
    "        play_prediction = model_play_alt.predict([play_model_input])\n",
    "        df = pd.DataFrame(play_prediction, columns=pd.Series(list(y_play_alt.columns)))\n",
    "\n",
    "        play_type_result = undummify(df)\n",
    "        play_call = play_type_result.loc[0].play\n",
    "        play_passer = play_type_result.loc[0].passer\n",
    "        play_receiver = play_type_result.loc[0].receiver\n",
    "        play_rusher = play_type_result.loc[0].rusher\n",
    "        \n",
    "        random_running_back_selection = random.random()\n",
    "        if (random_running_back_selection > 0.8):\n",
    "            df.loc[0, 'rusher_'+ play_rusher] = -1\n",
    "            play_rusher = undummify(df).loc[0].rusher\n",
    "        \n",
    "        # TODO make this per team, e.g. (# of plays where receiver is Kelce and passer is Mahomes/total # of plays where passer is Mahomes)\n",
    "        # randomly select WR2\n",
    "        random_wide_receiver_selection = random.random()\n",
    "        if (random_wide_receiver_selection > 0.5):\n",
    "            df.loc[0, 'receiver_' + play_receiver] = -1\n",
    "            play_receiver = undummify(df).loc[0].receiver\n",
    "            \n",
    "        # randomly select WR3\n",
    "        if (random_wide_receiver_selection > 0.75):\n",
    "            df.loc[0, 'receiver_' + play_receiver] = -1\n",
    "            play_receiver = undummify(df).loc[0].receiver\n",
    "        \n",
    "        \n",
    "        # randomly select RB as pass catcher\n",
    "        if (random_wide_receiver_selection > 0.9):\n",
    "            play_receiver = play_rusher\n",
    "        \n",
    "        multiplier_list = [random.randrange(0, 2)] * 40 + [random.randrange(2, 3)] * 10 + [random.randrange(3, 4)] * 3 + [random.randrange(4, 5)] * 1\n",
    "        \n",
    "        print(play_call, play_passer, play_receiver, play_rusher)\n",
    "        if play_call == 'type_pass':\n",
    "            input_pass = [down]\n",
    "            for col in list(x_pass.columns)[1:]:\n",
    "                if col == 'passer_' + (play_passer):\n",
    "                    input_pass.append(1)\n",
    "                elif col == 'receiver_' +(play_receiver):\n",
    "                    input_pass.append(1)\n",
    "                else:\n",
    "                    input_pass.append(0)\n",
    "            receiving_yards_gained, catch_drop_probability = model_pass.predict([input_pass])[0]\n",
    "            rand_value = random.random()\n",
    "            catch_drop_probability_multiplier = 0 if rand_value <= catch_drop_probability else 1\n",
    "            total_receiving_yards_gained = round((receiving_yards_gained * catch_drop_probability_multiplier * random.choice(multiplier_list)))\n",
    "            series_yard_line += total_receiving_yards_gained\n",
    "            series_ydstogo = 10 - total_receiving_yards_gained\n",
    "            if series_yard_line >= starting_pos + 10:\n",
    "                break\n",
    "        elif play_call == 'type_run':\n",
    "            input_rush = [down]\n",
    "            for col in list(x_rush.columns)[1:]:\n",
    "                if col == 'rusher_'+ play_rusher:\n",
    "                    input_rush.append(1)\n",
    "                else:\n",
    "                    input_rush.append(0)\n",
    "            rush_yards_gained = random.choice(multiplier_list) * model_rush.predict([input_rush])[0][0]\n",
    "            series_yard_line += round(rush_yards_gained)\n",
    "            series_ydstogo = 10 - round(rush_yards_gained)\n",
    "            if series_yard_line >= starting_pos + 10:\n",
    "                break\n",
    "        series_time_taken = random.randint(30, 90)\n",
    "    return {\n",
    "        'series_end_line': series_yard_line,\n",
    "        'series_result': 'first_down' if series_yard_line >= starting_pos + 10 else 'turnover',\n",
    "        'series_time_taken_sec': series_time_taken\n",
    "    }        \n",
    "    \n",
    "series_sim('ARI', 25)"
   ]
  },
  {
   "cell_type": "code",
   "execution_count": 41,
   "metadata": {},
   "outputs": [
    {
     "name": "stdout",
     "output_type": "stream",
     "text": [
      "type_pass B.Mayfield J.Landry K.Hunt\n",
      "type_run B.Mayfield R.Higgins K.Hunt\n",
      "type_pass B.Mayfield A.Hooper K.Hunt\n",
      "type_pass B.Mayfield A.Hooper K.Hunt\n",
      "type_pass B.Mayfield J.Landry K.Hunt\n",
      "type_pass B.Mayfield R.Higgins K.Hunt\n",
      "type_pass B.Mayfield A.Hooper K.Hunt\n",
      "type_pass B.Mayfield A.Hooper K.Hunt\n",
      "type_pass B.Mayfield J.Landry K.Hunt\n",
      "type_pass B.Mayfield R.Higgins K.Hunt\n"
     ]
    },
    {
     "data": {
      "text/plain": [
       "{'drive_result': 'touchdown', 'points_gained': 7, 'drive_total_time_sec': 177}"
      ]
     },
     "execution_count": 41,
     "metadata": {},
     "output_type": "execute_result"
    }
   ],
   "source": [
    "def drive_sim(team_name, starting_pos):\n",
    "    #continue_drive = true\n",
    "    drive_yard_line = starting_pos\n",
    "    drive_total_time_sec = 0\n",
    "    while True:\n",
    "        result_current_series = series_sim(team_name, drive_yard_line)\n",
    "        drive_yard_line = result_current_series['series_end_line']\n",
    "        drive_total_time_sec += result_current_series['series_time_taken_sec']\n",
    "        if drive_yard_line >= 100 or result_current_series['series_result'] == 'turnover':\n",
    "                break\n",
    "        \n",
    "    return {\n",
    "        'drive_result': 'touchdown' if drive_yard_line >= 100 else 'turnover',\n",
    "        'points_gained': 7 if drive_yard_line >= 100 else 0,\n",
    "        'drive_total_time_sec': drive_total_time_sec \n",
    "    }\n",
    "drive_sim('CLE', 25)    "
   ]
  },
  {
   "cell_type": "code",
   "execution_count": 43,
   "metadata": {},
   "outputs": [
    {
     "name": "stdout",
     "output_type": "stream",
     "text": [
      "type_pass D.Lock M.Gordon M.Gordon\n",
      "type_pass D.Lock J.Jeudy P.Lindsay\n",
      "type_pass D.Lock T.Patrick M.Gordon\n",
      "type_pass D.Lock J.Jeudy M.Gordon\n",
      "DEN {'drive_result': 'turnover', 'points_gained': 0, 'drive_total_time_sec': 33}\n",
      "type_pass J.Burrow T.Higgins G.Bernard\n",
      "type_pass J.Burrow A.Green J.Mixon\n",
      "type_pass J.Burrow T.Boyd G.Bernard\n",
      "type_pass J.Burrow G.Bernard G.Bernard\n",
      "type_pass J.Burrow A.Green G.Bernard\n",
      "CIN {'drive_result': 'turnover', 'points_gained': 0, 'drive_total_time_sec': 37}\n",
      "type_pass D.Lock N.Fant M.Gordon\n",
      "type_pass D.Lock N.Fant P.Lindsay\n",
      "type_pass D.Lock J.Jeudy M.Gordon\n",
      "type_pass D.Lock T.Patrick M.Gordon\n",
      "type_pass D.Lock N.Fant M.Gordon\n",
      "type_pass D.Lock N.Fant M.Gordon\n",
      "DEN {'drive_result': 'turnover', 'points_gained': 0, 'drive_total_time_sec': 140}\n",
      "type_pass J.Burrow T.Higgins G.Bernard\n",
      "type_pass J.Burrow T.Higgins G.Bernard\n",
      "type_pass J.Burrow T.Boyd J.Mixon\n",
      "type_pass J.Burrow T.Boyd G.Bernard\n",
      "type_pass J.Burrow T.Higgins G.Bernard\n",
      "type_pass J.Burrow G.Bernard G.Bernard\n",
      "CIN {'drive_result': 'turnover', 'points_gained': 0, 'drive_total_time_sec': 87}\n",
      "type_pass D.Lock J.Jeudy M.Gordon\n",
      "type_pass D.Lock J.Jeudy P.Lindsay\n",
      "type_pass D.Lock N.Fant M.Gordon\n",
      "type_pass D.Lock J.Jeudy M.Gordon\n",
      "type_pass D.Lock J.Jeudy P.Lindsay\n",
      "type_pass D.Lock N.Fant M.Gordon\n",
      "type_pass D.Lock M.Gordon M.Gordon\n",
      "type_pass D.Lock J.Jeudy M.Gordon\n",
      "type_pass D.Lock M.Gordon M.Gordon\n",
      "type_pass D.Lock N.Fant M.Gordon\n",
      "type_pass D.Lock T.Patrick M.Gordon\n",
      "type_pass D.Lock M.Gordon M.Gordon\n",
      "type_pass D.Lock T.Patrick P.Lindsay\n",
      "type_pass D.Lock N.Fant P.Lindsay\n",
      "type_pass D.Lock N.Fant P.Lindsay\n",
      "DEN {'drive_result': 'touchdown', 'points_gained': 7, 'drive_total_time_sec': 233}\n",
      "type_pass J.Burrow T.Higgins G.Bernard\n",
      "type_pass J.Burrow T.Higgins G.Bernard\n",
      "type_pass J.Burrow A.Green G.Bernard\n",
      "type_pass J.Burrow T.Boyd J.Mixon\n",
      "CIN {'drive_result': 'turnover', 'points_gained': 0, 'drive_total_time_sec': 37}\n",
      "type_pass D.Lock N.Fant M.Gordon\n",
      "type_pass D.Lock N.Fant M.Gordon\n",
      "type_pass D.Lock J.Jeudy M.Gordon\n",
      "type_pass D.Lock J.Jeudy M.Gordon\n",
      "type_pass D.Lock T.Patrick M.Gordon\n",
      "type_pass D.Lock J.Jeudy M.Gordon\n",
      "DEN {'drive_result': 'turnover', 'points_gained': 0, 'drive_total_time_sec': 100}\n",
      "type_pass J.Burrow T.Boyd G.Bernard\n",
      "type_pass J.Burrow A.Green J.Mixon\n",
      "type_pass J.Burrow T.Higgins G.Bernard\n",
      "type_pass J.Burrow G.Bernard G.Bernard\n",
      "type_pass J.Burrow T.Higgins J.Mixon\n",
      "type_pass J.Burrow T.Higgins G.Bernard\n",
      "type_pass J.Burrow T.Higgins G.Bernard\n",
      "CIN {'drive_result': 'turnover', 'points_gained': 0, 'drive_total_time_sec': 125}\n",
      "type_pass D.Lock N.Fant M.Gordon\n",
      "type_pass D.Lock J.Jeudy M.Gordon\n",
      "type_pass D.Lock M.Gordon M.Gordon\n",
      "type_pass D.Lock N.Fant M.Gordon\n",
      "type_pass D.Lock N.Fant M.Gordon\n",
      "type_pass D.Lock M.Gordon M.Gordon\n",
      "type_pass D.Lock T.Patrick M.Gordon\n",
      "type_pass D.Lock J.Jeudy M.Gordon\n",
      "type_pass D.Lock T.Patrick M.Gordon\n",
      "DEN {'drive_result': 'turnover', 'points_gained': 0, 'drive_total_time_sec': 217}\n",
      "type_pass J.Burrow T.Higgins G.Bernard\n",
      "type_pass J.Burrow T.Higgins J.Mixon\n",
      "type_pass J.Burrow T.Boyd G.Bernard\n",
      "type_pass J.Burrow T.Higgins G.Bernard\n",
      "type_pass J.Burrow T.Higgins G.Bernard\n",
      "type_pass J.Burrow T.Higgins J.Mixon\n",
      "type_pass J.Burrow T.Boyd J.Mixon\n",
      "type_pass J.Burrow T.Boyd G.Bernard\n",
      "type_pass J.Burrow A.Green G.Bernard\n",
      "type_pass J.Burrow T.Higgins G.Bernard\n",
      "type_pass J.Burrow T.Higgins J.Mixon\n",
      "type_pass J.Burrow A.Green G.Bernard\n",
      "type_pass J.Burrow T.Boyd G.Bernard\n",
      "CIN {'drive_result': 'turnover', 'points_gained': 0, 'drive_total_time_sec': 264}\n",
      "type_pass D.Lock N.Fant M.Gordon\n",
      "type_pass D.Lock J.Jeudy P.Lindsay\n",
      "type_pass D.Lock J.Jeudy M.Gordon\n",
      "type_pass D.Lock M.Gordon M.Gordon\n",
      "DEN {'drive_result': 'turnover', 'points_gained': 0, 'drive_total_time_sec': 41}\n",
      "type_pass J.Burrow T.Boyd J.Mixon\n",
      "type_pass J.Burrow T.Boyd G.Bernard\n",
      "type_pass J.Burrow T.Boyd J.Mixon\n",
      "type_pass J.Burrow G.Bernard G.Bernard\n",
      "type_pass J.Burrow T.Boyd G.Bernard\n",
      "type_pass J.Burrow T.Boyd G.Bernard\n",
      "CIN {'drive_result': 'turnover', 'points_gained': 0, 'drive_total_time_sec': 112}\n",
      "type_pass D.Lock N.Fant M.Gordon\n",
      "type_pass D.Lock N.Fant M.Gordon\n",
      "type_pass D.Lock T.Patrick M.Gordon\n",
      "type_pass D.Lock P.Lindsay P.Lindsay\n",
      "type_pass D.Lock P.Lindsay P.Lindsay\n",
      "type_pass D.Lock N.Fant M.Gordon\n",
      "type_pass D.Lock T.Patrick P.Lindsay\n",
      "DEN {'drive_result': 'turnover', 'points_gained': 0, 'drive_total_time_sec': 122}\n",
      "type_pass J.Burrow T.Boyd G.Bernard\n",
      "type_pass J.Burrow T.Boyd G.Bernard\n",
      "type_pass J.Burrow T.Higgins G.Bernard\n",
      "type_pass J.Burrow T.Higgins G.Bernard\n",
      "type_pass J.Burrow G.Bernard G.Bernard\n",
      "type_pass J.Burrow T.Boyd G.Bernard\n",
      "CIN {'drive_result': 'turnover', 'points_gained': 0, 'drive_total_time_sec': 139}\n",
      "type_pass D.Lock N.Fant P.Lindsay\n",
      "type_pass D.Lock J.Jeudy P.Lindsay\n",
      "type_pass D.Lock J.Jeudy M.Gordon\n",
      "type_pass D.Lock J.Jeudy M.Gordon\n",
      "DEN {'drive_result': 'turnover', 'points_gained': 0, 'drive_total_time_sec': 48}\n",
      "type_pass J.Burrow T.Higgins G.Bernard\n",
      "type_pass J.Burrow T.Boyd J.Mixon\n",
      "type_pass J.Burrow G.Bernard G.Bernard\n",
      "type_pass J.Burrow T.Higgins G.Bernard\n",
      "type_pass J.Burrow G.Bernard G.Bernard\n",
      "type_pass J.Burrow G.Bernard G.Bernard\n",
      "type_pass J.Burrow T.Higgins G.Bernard\n",
      "type_pass J.Burrow G.Bernard G.Bernard\n",
      "CIN {'drive_result': 'turnover', 'points_gained': 0, 'drive_total_time_sec': 121}\n",
      "type_pass D.Lock J.Jeudy M.Gordon\n",
      "type_pass D.Lock J.Jeudy M.Gordon\n",
      "type_pass D.Lock N.Fant P.Lindsay\n",
      "type_pass D.Lock T.Patrick M.Gordon\n",
      "type_pass D.Lock N.Fant M.Gordon\n",
      "type_pass D.Lock J.Jeudy M.Gordon\n",
      "type_pass D.Lock J.Jeudy P.Lindsay\n",
      "type_pass D.Lock J.Jeudy M.Gordon\n",
      "type_pass D.Lock N.Fant P.Lindsay\n",
      "type_pass D.Lock J.Jeudy P.Lindsay\n",
      "type_pass D.Lock J.Jeudy P.Lindsay\n",
      "DEN {'drive_result': 'turnover', 'points_gained': 0, 'drive_total_time_sec': 181}\n",
      "type_pass J.Burrow T.Boyd G.Bernard\n",
      "type_pass J.Burrow T.Boyd G.Bernard\n",
      "type_pass J.Burrow A.Green G.Bernard\n",
      "type_pass J.Burrow T.Boyd J.Mixon\n",
      "type_pass J.Burrow T.Boyd G.Bernard\n",
      "type_pass J.Burrow T.Higgins G.Bernard\n",
      "type_pass J.Burrow A.Green G.Bernard\n",
      "type_pass J.Burrow T.Higgins G.Bernard\n",
      "type_pass J.Burrow T.Higgins G.Bernard\n",
      "type_pass J.Burrow A.Green G.Bernard\n",
      "CIN {'drive_result': 'turnover', 'points_gained': 0, 'drive_total_time_sec': 225}\n",
      "type_pass D.Lock J.Jeudy P.Lindsay\n",
      "type_pass D.Lock M.Gordon M.Gordon\n",
      "type_pass D.Lock T.Patrick M.Gordon\n",
      "type_pass D.Lock J.Jeudy M.Gordon\n",
      "type_pass D.Lock T.Patrick M.Gordon\n",
      "type_pass D.Lock J.Jeudy M.Gordon\n",
      "type_pass D.Lock M.Gordon M.Gordon\n",
      "type_pass D.Lock J.Jeudy M.Gordon\n",
      "type_pass D.Lock M.Gordon M.Gordon\n",
      "DEN {'drive_result': 'turnover', 'points_gained': 0, 'drive_total_time_sec': 205}\n",
      "type_pass J.Burrow A.Green G.Bernard\n",
      "type_pass J.Burrow T.Higgins J.Mixon\n",
      "type_pass J.Burrow T.Boyd G.Bernard\n",
      "type_pass J.Burrow A.Green G.Bernard\n",
      "type_pass J.Burrow T.Higgins G.Bernard\n",
      "type_pass J.Burrow T.Higgins G.Bernard\n",
      "type_pass J.Burrow T.Higgins G.Bernard\n",
      "type_pass J.Burrow T.Boyd G.Bernard\n",
      "type_pass J.Burrow T.Higgins G.Bernard\n",
      "CIN {'drive_result': 'turnover', 'points_gained': 0, 'drive_total_time_sec': 191}\n",
      "type_pass D.Lock T.Patrick M.Gordon\n",
      "type_pass D.Lock J.Jeudy M.Gordon\n",
      "type_pass D.Lock M.Gordon M.Gordon\n",
      "type_pass D.Lock T.Patrick P.Lindsay\n",
      "type_pass D.Lock T.Patrick M.Gordon\n",
      "type_pass D.Lock J.Jeudy M.Gordon\n",
      "type_pass D.Lock N.Fant M.Gordon\n",
      "type_pass D.Lock J.Jeudy M.Gordon\n",
      "DEN {'drive_result': 'turnover', 'points_gained': 0, 'drive_total_time_sec': 150}\n",
      "type_pass J.Burrow A.Green G.Bernard\n",
      "type_pass J.Burrow T.Higgins G.Bernard\n",
      "type_pass J.Burrow T.Boyd G.Bernard\n",
      "type_pass J.Burrow G.Bernard G.Bernard\n",
      "type_pass J.Burrow T.Higgins G.Bernard\n",
      "type_pass J.Burrow A.Green G.Bernard\n",
      "type_pass J.Burrow T.Higgins G.Bernard\n",
      "type_pass J.Burrow T.Higgins J.Mixon\n",
      "type_pass J.Burrow A.Green G.Bernard\n",
      "type_pass J.Burrow T.Higgins G.Bernard\n",
      "type_pass J.Burrow T.Higgins G.Bernard\n",
      "type_pass J.Burrow G.Bernard G.Bernard\n",
      "type_pass J.Burrow T.Higgins G.Bernard\n",
      "CIN {'drive_result': 'turnover', 'points_gained': 0, 'drive_total_time_sec': 193}\n",
      "type_pass D.Lock J.Jeudy M.Gordon\n",
      "type_pass D.Lock M.Gordon M.Gordon\n",
      "type_pass D.Lock T.Patrick M.Gordon\n",
      "type_pass D.Lock N.Fant M.Gordon\n",
      "DEN {'drive_result': 'turnover', 'points_gained': 0, 'drive_total_time_sec': 74}\n",
      "type_pass J.Burrow T.Higgins G.Bernard\n",
      "type_pass J.Burrow T.Higgins G.Bernard\n"
     ]
    },
    {
     "name": "stdout",
     "output_type": "stream",
     "text": [
      "type_pass J.Burrow A.Green G.Bernard\n",
      "type_pass J.Burrow T.Higgins G.Bernard\n",
      "type_pass J.Burrow T.Boyd G.Bernard\n",
      "type_pass J.Burrow T.Higgins G.Bernard\n",
      "CIN {'drive_result': 'turnover', 'points_gained': 0, 'drive_total_time_sec': 90}\n",
      "type_pass D.Lock M.Gordon M.Gordon\n",
      "type_pass D.Lock N.Fant P.Lindsay\n",
      "type_pass D.Lock J.Jeudy M.Gordon\n",
      "type_pass D.Lock J.Jeudy M.Gordon\n",
      "DEN {'drive_result': 'turnover', 'points_gained': 0, 'drive_total_time_sec': 73}\n",
      "type_pass J.Burrow T.Higgins G.Bernard\n",
      "type_pass J.Burrow T.Higgins G.Bernard\n",
      "type_pass J.Burrow J.Mixon J.Mixon\n",
      "type_pass J.Burrow T.Higgins J.Mixon\n",
      "type_pass J.Burrow T.Higgins G.Bernard\n",
      "CIN {'drive_result': 'turnover', 'points_gained': 0, 'drive_total_time_sec': 48}\n",
      "type_pass D.Lock T.Patrick M.Gordon\n",
      "type_pass D.Lock J.Jeudy M.Gordon\n",
      "type_pass D.Lock J.Jeudy M.Gordon\n",
      "type_pass D.Lock N.Fant M.Gordon\n",
      "type_pass D.Lock J.Jeudy M.Gordon\n",
      "type_pass D.Lock J.Jeudy P.Lindsay\n",
      "type_pass D.Lock J.Jeudy M.Gordon\n",
      "DEN {'drive_result': 'turnover', 'points_gained': 0, 'drive_total_time_sec': 118}\n",
      "type_pass J.Burrow T.Boyd G.Bernard\n",
      "type_pass J.Burrow G.Bernard G.Bernard\n",
      "type_pass J.Burrow T.Boyd G.Bernard\n",
      "type_pass J.Burrow T.Boyd G.Bernard\n",
      "type_pass J.Burrow T.Boyd G.Bernard\n",
      "type_pass J.Burrow T.Higgins J.Mixon\n",
      "type_pass J.Burrow T.Higgins J.Mixon\n",
      "CIN {'drive_result': 'touchdown', 'points_gained': 7, 'drive_total_time_sec': 167}\n",
      "type_pass D.Lock J.Jeudy M.Gordon\n",
      "type_pass D.Lock J.Jeudy M.Gordon\n",
      "type_pass D.Lock J.Jeudy M.Gordon\n",
      "type_pass D.Lock T.Patrick M.Gordon\n",
      "type_pass D.Lock J.Jeudy M.Gordon\n",
      "DEN {'drive_result': 'turnover', 'points_gained': 0, 'drive_total_time_sec': 50}\n"
     ]
    },
    {
     "data": {
      "text/plain": [
       "{'home_team_points': 7, 'away_team_points': 7, 'winning_team': 'CIN'}"
      ]
     },
     "execution_count": 43,
     "metadata": {},
     "output_type": "execute_result"
    }
   ],
   "source": [
    "def game_sim(home_team, away_team):\n",
    "    starting_field_position = 25\n",
    "    home_team_points = 0\n",
    "    away_team_points = 0\n",
    "    total_game_time_sec = 0\n",
    "    pos_team = home_team\n",
    "    while total_game_time_sec <= 60*60:\n",
    "        drive_simulation = drive_sim(pos_team, starting_field_position)\n",
    "        print(pos_team, drive_simulation)\n",
    "        if pos_team == home_team:\n",
    "            home_team_points += drive_simulation['points_gained']\n",
    "            pos_team = away_team\n",
    "        else:\n",
    "            away_team_points += drive_simulation['points_gained']\n",
    "            pos_team = home_team\n",
    "        total_game_time_sec += drive_simulation['drive_total_time_sec']\n",
    "    return {\n",
    "        'home_team_points': home_team_points,\n",
    "        'away_team_points': away_team_points,\n",
    "        'winning_team': home_team if home_team_points > away_team_points else away_team\n",
    "    }\n",
    "game_sim('DEN', 'CIN')"
   ]
  },
  {
   "cell_type": "code",
   "execution_count": 47,
   "metadata": {},
   "outputs": [
    {
     "data": {
      "text/plain": [
       "['x_rush.joblib']"
      ]
     },
     "execution_count": 47,
     "metadata": {},
     "output_type": "execute_result"
    }
   ],
   "source": [
    "from joblib import dump, load\n",
    "dump(model_play_alt, 'model_play_alt.joblib')\n",
    "dump(model_pass, 'model_pass.joblib')\n",
    "dump(model_rush, 'model_rush.joblib')\n",
    "dump(model_punt, 'model_punt.joblib')\n",
    "dump(model_kick, 'model_kick.joblib')\n",
    "dump(y_play_alt, 'y_play_alt.joblib')\n",
    "dump(x_pass, 'x_pass.joblib')\n",
    "dump(x_rush, 'x_rush.joblib')"
   ]
  },
  {
   "cell_type": "code",
   "execution_count": null,
   "metadata": {},
   "outputs": [],
   "source": []
  }
 ],
 "metadata": {
  "kernelspec": {
   "display_name": "Python 3",
   "language": "python",
   "name": "python3"
  },
  "language_info": {
   "codemirror_mode": {
    "name": "ipython",
    "version": 3
   },
   "file_extension": ".py",
   "mimetype": "text/x-python",
   "name": "python",
   "nbconvert_exporter": "python",
   "pygments_lexer": "ipython3",
   "version": "3.9.0"
  }
 },
 "nbformat": 4,
 "nbformat_minor": 4
}
